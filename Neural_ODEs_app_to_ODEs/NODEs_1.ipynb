{
  "nbformat": 4,
  "nbformat_minor": 0,
  "metadata": {
    "colab": {
      "provenance": [],
      "authorship_tag": "ABX9TyOhPicWgrG+mSXixcC46Nf9",
      "include_colab_link": true
    },
    "kernelspec": {
      "name": "python3",
      "display_name": "Python 3"
    },
    "language_info": {
      "name": "python"
    }
  },
  "cells": [
    {
      "cell_type": "markdown",
      "metadata": {
        "id": "view-in-github",
        "colab_type": "text"
      },
      "source": [
        "<a href=\"https://colab.research.google.com/github/Hamid-Mofidi/Neural_ODE/blob/main/Neural_ODEs_app_to_ODEs/NODEs_1.ipynb\" target=\"_parent\"><img src=\"https://colab.research.google.com/assets/colab-badge.svg\" alt=\"Open In Colab\"/></a>"
      ]
    },
    {
      "cell_type": "markdown",
      "source": [
        "## Neural ODEs for solving a system of ODEs:\n",
        "\n",
        " the following code demonstrates the application of neural ordinary differential equations (ODEs) to solving systems of ODEs.\n",
        "\n",
        "In traditional numerical methods, such as the Runge-Kutta method used in this code, the system of differential equations is solved by discretizing the time domain and approximating the derivatives at each time step. However, in this code, a neural network is used to approximate the solution to the system of ODEs. The neural network takes in the current time and state as input and outputs the derivative of the state.\n",
        "\n",
        "The neural network is trained to approximate the solution by minimizing the mean squared error (MSE) loss between the predicted solution and the observed data obtained from numerical integration. The training loop updates the neural network parameters using backpropagation and the Adam optimizer.\n",
        "\n",
        "By using neural ODEs, this code offers a flexible and continuous-time approach to solving systems of ODEs. The neural network can capture complex dynamics and provide a continuous approximation to the solution without the need for explicit discretization. This approach has potential applications in various scientific and engineering domains where systems of differential equations need to be solved."
      ],
      "metadata": {
        "id": "Jg-3QHR_cXgE"
      }
    },
    {
      "cell_type": "markdown",
      "source": [
        "\n",
        "In this example, we define the initial condition `y0` and the time points `t` at which we want to evaluate the solution.\n",
        "\n",
        "We then create an instance of the `ODEFunc` class called `odefunc`, which represents the neural network that will learn the dynamics of the system.\n",
        "\n",
        "Next, we define the loss function, which in this case is the mean squared error (MSE) loss. This loss function measures the difference between the predicted solution and the observed data.\n",
        "\n",
        "We also define the optimizer, which is Adam in this example, to update the neural network parameters during the training process.\n",
        "\n",
        "The training loop consists of multiple epochs. In each epoch, we reset the gradients of the optimizer, solve the system using the current state of the neural network, compute the loss between the predicted solution and the observed data, perform backpropagation to compute the gradients of the neural network parameters, update the parameters using the optimizer, and print the loss for monitoring.\n",
        "\n",
        "Finally, we print the final solution, which represents the approximation of the system of differential equations obtained after training the neural network using the backpropagation process.\n"
      ],
      "metadata": {
        "id": "j93JyI6DIhJz"
      }
    },
    {
      "cell_type": "code",
      "execution_count": null,
      "metadata": {
        "colab": {
          "base_uri": "https://localhost:8080/"
        },
        "id": "R2ygHt8Nlaaw",
        "outputId": "dfd3342e-0acf-40a8-a59b-67063d06b8cc"
      },
      "outputs": [
        {
          "output_type": "stream",
          "name": "stdout",
          "text": [
            "Epoch 1: Loss = 0.7519377803077382\n",
            "Epoch 2: Loss = 0.7545424900448728\n",
            "Epoch 3: Loss = 0.7517788599476956\n",
            "Epoch 4: Loss = 0.751885811868059\n",
            "Epoch 5: Loss = 0.7522715807750937\n",
            "Epoch 6: Loss = 0.7517534075944491\n",
            "Epoch 7: Loss = 0.7510464438424067\n",
            "Epoch 8: Loss = 0.7509642913452512\n",
            "Epoch 9: Loss = 0.7512626338358865\n",
            "Epoch 10: Loss = 0.7513270765854587\n",
            "Epoch 11: Loss = 0.7510246508503365\n",
            "Epoch 12: Loss = 0.7506640877987653\n",
            "Epoch 13: Loss = 0.7505997012889931\n",
            "Epoch 14: Loss = 0.7507836718903812\n",
            "Epoch 15: Loss = 0.750897604630832\n",
            "Epoch 16: Loss = 0.7507659887237085\n",
            "Epoch 17: Loss = 0.7505208875104986\n",
            "Epoch 18: Loss = 0.750414892678485\n",
            "Epoch 19: Loss = 0.7505103965951722\n",
            "Epoch 20: Loss = 0.7506347319117256\n",
            "Epoch 21: Loss = 0.7506111163920264\n",
            "Epoch 22: Loss = 0.7504564083549039\n",
            "Epoch 23: Loss = 0.750339315872326\n",
            "Epoch 24: Loss = 0.750367861674244\n",
            "Epoch 25: Loss = 0.7504685215639492\n",
            "Epoch 26: Loss = 0.7504935984534518\n",
            "Epoch 27: Loss = 0.750405450540708\n",
            "Epoch 28: Loss = 0.7503085290457733\n",
            "Epoch 29: Loss = 0.750306115923876\n",
            "Epoch 30: Loss = 0.7503751724342764\n",
            "Epoch 31: Loss = 0.750409854127498\n",
            "Epoch 32: Loss = 0.7503613240878735\n",
            "Epoch 33: Loss = 0.7502909701725358\n",
            "Epoch 34: Loss = 0.7502805837635828\n",
            "Epoch 35: Loss = 0.750326780971971\n",
            "Epoch 36: Loss = 0.7503551189121973\n",
            "Epoch 37: Loss = 0.750324698953018\n",
            "Epoch 38: Loss = 0.750277123187228\n",
            "Epoch 39: Loss = 0.7502712442270696\n",
            "Epoch 40: Loss = 0.7503034142622858\n",
            "Epoch 41: Loss = 0.7503205532817351\n",
            "Epoch 42: Loss = 0.7502976366631168\n",
            "Epoch 43: Loss = 0.7502675437280152\n",
            "Epoch 44: Loss = 0.7502686124902402\n",
            "Epoch 45: Loss = 0.750291323884957\n",
            "Epoch 46: Loss = 0.7502978515383176\n",
            "Epoch 47: Loss = 0.7502788379940176\n",
            "Epoch 48: Loss = 0.7502625139321398\n",
            "Epoch 49: Loss = 0.7502692396264851\n",
            "Epoch 50: Loss = 0.750283616532711\n",
            "Epoch 51: Loss = 0.7502818566172494\n",
            "Epoch 52: Loss = 0.7502673954598265\n",
            "Epoch 53: Loss = 0.7502617864055446\n",
            "Epoch 54: Loss = 0.7502703468213955\n",
            "Epoch 55: Loss = 0.7502767172849717\n",
            "Epoch 56: Loss = 0.750270568795508\n",
            "Epoch 57: Loss = 0.7502621652360563\n",
            "Epoch 58: Loss = 0.7502635731987448\n",
            "Epoch 59: Loss = 0.7502700325841838\n",
            "Epoch 60: Loss = 0.7502699617508765\n",
            "Epoch 61: Loss = 0.7502638713893394\n",
            "Epoch 62: Loss = 0.7502615659441738\n",
            "Epoch 63: Loss = 0.7502653280787638\n",
            "Epoch 64: Loss = 0.7502675933223577\n",
            "Epoch 65: Loss = 0.7502645481766217\n",
            "Epoch 66: Loss = 0.7502615303468727\n",
            "Epoch 67: Loss = 0.7502629124154176\n",
            "Epoch 68: Loss = 0.7502652617064866\n",
            "Epoch 69: Loss = 0.7502642605302211\n",
            "Epoch 70: Loss = 0.7502618495312866\n",
            "Epoch 71: Loss = 0.7502619286142065\n",
            "Epoch 72: Loss = 0.7502636167732143\n",
            "Epoch 73: Loss = 0.7502635827461571\n",
            "Epoch 74: Loss = 0.7502620067030934\n",
            "Epoch 75: Loss = 0.7502616115212837\n",
            "Epoch 76: Loss = 0.7502626338223313\n",
            "Epoch 77: Loss = 0.7502629111319543\n",
            "Epoch 78: Loss = 0.7502619841491145\n",
            "Epoch 79: Loss = 0.7502615304414201\n",
            "Epoch 80: Loss = 0.750262094289985\n",
            "Epoch 81: Loss = 0.75026239106185\n",
            "Epoch 82: Loss = 0.7502618727008017\n",
            "Epoch 83: Loss = 0.7502615107388112\n",
            "Epoch 84: Loss = 0.7502618075323252\n",
            "Epoch 85: Loss = 0.75026203201915\n",
            "Epoch 86: Loss = 0.7502617465416778\n",
            "Epoch 87: Loss = 0.7502614980598494\n",
            "Epoch 88: Loss = 0.7502616517643773\n",
            "Epoch 89: Loss = 0.7502617977180415\n",
            "Epoch 90: Loss = 0.7502616392285182\n",
            "Epoch 91: Loss = 0.7502614825856401\n",
            "Epoch 92: Loss = 0.7502615621913354\n",
            "Epoch 93: Loss = 0.7502616488761373\n",
            "Epoch 94: Loss = 0.750261559911913\n",
            "Epoch 95: Loss = 0.750261465652054\n",
            "Epoch 96: Loss = 0.7502615065030124\n",
            "Epoch 97: Loss = 0.7502615556554812\n",
            "Epoch 98: Loss = 0.7502615054539773\n",
            "Epoch 99: Loss = 0.7502614493374655\n",
            "Epoch 100: Loss = 0.7502614697748434\n"
          ]
        }
      ],
      "source": [
        "import torch\n",
        "import torch.nn as nn\n",
        "import torch.optim as optim\n",
        "from scipy.integrate import solve_ivp\n",
        "import numpy as np\n",
        "import matplotlib.pyplot as plt\n",
        "\n",
        "# Define the system of differential equations\n",
        "def system(t, y):\n",
        "    y = torch.tensor(y)\n",
        "    dydt = torch.tensor([y[1], -np.sin(y[0].item())])\n",
        "    return dydt\n",
        "\n",
        "# Define the neural network architecture\n",
        "class ODEFunc(nn.Module):\n",
        "    def __init__(self):\n",
        "        super(ODEFunc, self).__init__()\n",
        "        self.fc1 = nn.Linear(2, 50)\n",
        "        self.fc2 = nn.Linear(50, 2)\n",
        "\n",
        "    def forward(self, t, y):\n",
        "        out = torch.relu(self.fc1(y))\n",
        "        out = self.fc2(out)\n",
        "        return out.view(-1, 2)\n",
        "\n",
        "# Define the initial condition\n",
        "y0 = torch.tensor([0.0, 1.0])\n",
        "\n",
        "# Define the time points\n",
        "t = torch.linspace(0, 10, 100)\n",
        "\n",
        "# Create an instance of the ODEFunc class\n",
        "odefunc = ODEFunc()\n",
        "\n",
        "# Solve the system of differential equations using the Runge-Kutta method\n",
        "solution = solve_ivp(lambda t, y: system(t, y).numpy(), [t[0], t[-1]], y0.numpy(), t_eval=t.numpy()).y.T\n",
        "\n",
        "# Convert the solution to a tensor\n",
        "solution = torch.tensor(solution)\n",
        "\n",
        "# Define the observed data as the solution\n",
        "observed_data = solution\n",
        "\n",
        "# Define the loss function\n",
        "loss_fn = nn.MSELoss()\n",
        "\n",
        "# Define the optimizer\n",
        "optimizer = optim.Adam(odefunc.parameters(), lr=0.01)\n",
        "\n",
        "# Training loop\n",
        "solution2 = []\n",
        "for epoch in range(100):\n",
        "    # Reset gradients\n",
        "    optimizer.zero_grad()\n",
        "\n",
        "    # Forward pass\n",
        "    out = odefunc(t, y0)\n",
        "\n",
        "    # Solve the system using the current state of the neural network\n",
        "    solution = torch.stack([y0.unsqueeze(0), out], dim=0)\n",
        "    solution = solution.double()\n",
        "\n",
        "    # Compute the loss between the predicted solution and the observed data\n",
        "    loss = loss_fn(solution, observed_data)\n",
        "\n",
        "    # Backpropagation\n",
        "    loss.backward()\n",
        "\n",
        "    # Update the neural network parameters\n",
        "    optimizer.step()\n",
        "\n",
        "    # Print the loss for monitoring\n",
        "    print(f\"Epoch {epoch+1}: Loss = {loss.item()}\")\n",
        "\n",
        "    # Append the current solution to the solution2 list\n",
        "    solution2.append(solution)\n",
        "\n",
        "# Convert the solution2 list to a tensor\n",
        "solution2 = torch.cat(solution2)\n",
        "\n"
      ]
    },
    {
      "cell_type": "code",
      "source": [
        "print(solution2.shape)\n",
        "print(t.shape)\n",
        "#print(solution2)"
      ],
      "metadata": {
        "id": "E7DlVHo_0-hq",
        "outputId": "5c06026f-b555-4b61-f847-080f61f29ae5",
        "colab": {
          "base_uri": "https://localhost:8080/"
        }
      },
      "execution_count": null,
      "outputs": [
        {
          "output_type": "stream",
          "name": "stdout",
          "text": [
            "torch.Size([200, 1, 2])\n",
            "torch.Size([100])\n"
          ]
        }
      ]
    },
    {
      "cell_type": "code",
      "source": [
        "# Create a tensor of odd indices from 1 to 199\n",
        "odd_indices = torch.arange(1, 200, 2)\n",
        "#print(odd_indices)\n",
        "\n",
        "# Pick odd number of matrices using torch.index_select\n",
        "odd_matrices = torch.index_select(solution2, dim=0, index=odd_indices)\n",
        "print(odd_matrices.shape)"
      ],
      "metadata": {
        "id": "jAtVxDLf4eVv",
        "outputId": "cd125f7e-f410-4952-b868-bfe76e25d1f6",
        "colab": {
          "base_uri": "https://localhost:8080/"
        }
      },
      "execution_count": null,
      "outputs": [
        {
          "output_type": "stream",
          "name": "stdout",
          "text": [
            "torch.Size([100, 1, 2])\n"
          ]
        }
      ]
    },
    {
      "cell_type": "code",
      "source": [
        "# Plot the solutions\n",
        "plt.plot(t[:odd_matrices.shape[0]], odd_matrices[:, 0, 0].detach().numpy(), label='y1')\n",
        "plt.plot(t[:odd_matrices.shape[0]], odd_matrices[:, 0, 1].detach().numpy(), label='y2')\n",
        "plt.xlabel('t')\n",
        "plt.ylabel('y')\n",
        "plt.legend()\n",
        "plt.show()"
      ],
      "metadata": {
        "colab": {
          "base_uri": "https://localhost:8080/",
          "height": 449
        },
        "id": "rEWTe99a0txH",
        "outputId": "a342f3de-4e1f-4ed9-c320-6f0006d8876e"
      },
      "execution_count": null,
      "outputs": [
        {
          "output_type": "display_data",
          "data": {
            "text/plain": [
              "<Figure size 640x480 with 1 Axes>"
            ],
            "image/png": "[encoded data removed]"
          },
          "metadata": {}
        }
      ]
    },
    {
      "cell_type": "markdown",
      "source": [
        "## Generally:\n",
        "\n",
        "This code trains a neural network to solve a system of ordinary differential equations (ODEs) using the method of automatic differentiation. Here's a general overview of what the code does:\n",
        "\n",
        "1. Define the system of differential equations: The code defines a system of differential equations, which in this case is a simple pendulum system.\n",
        "\n",
        "2. Define the neural network architecture: The code defines a neural network architecture, which is used to approximate the solution to the system of differential equations. The neural network takes in the current time and state as input and outputs the derivative of the state.\n",
        "\n",
        "3. Define the initial condition and time points: The code defines the initial condition of the system and the time points at which the solution will be evaluated.\n",
        "\n",
        "4. Solve the system of differential equations using the Runge-Kutta method: The code uses the scipy `solve_ivp` function to solve the system of differential equations using the Runge-Kutta method. This provides the \"true\" solution to the system, which will be used as the observed data for training the neural network.\n",
        "\n",
        "5. Convert the solution to a tensor: The code converts the solution obtained from `solve_ivp` to a PyTorch tensor.\n",
        "\n",
        "6. Define the observed data as the solution: The code defines the observed data for training the neural network as the solution obtained from `solve_ivp`.\n",
        "\n",
        "7. Define the loss function and optimizer: The code defines the mean squared error (MSE) loss function and the Adam optimizer.\n",
        "\n",
        "8. Training loop: The code performs a training loop for a specified number of epochs. In each epoch, it does the following:\n",
        "   - Resets the gradients of the optimizer.\n",
        "   - Performs a forward pass through the neural network to obtain the output.\n",
        "   - Solves the system of differential equations using the current state of the neural network.\n",
        "   - Computes the loss between the predicted solution and the observed data.\n",
        "   - Performs backpropagation to compute the gradients of the loss with respect to the neural network parameters.\n",
        "   - Updates the neural network parameters based on the computed gradients.\n",
        "   - Prints the current epoch and the corresponding loss for monitoring purposes.\n",
        "   - Appends the current solution to a list.\n",
        "\n",
        "9. Convert the list of solutions to a tensor: The code converts the list of solutions obtained during training to a PyTorch tensor.\n",
        "\n",
        "10. Plot the solutions: The code plots the solutions obtained during training using matplotlib.\n"
      ],
      "metadata": {
        "id": "GgHM6u5ddhpU"
      }
    },
    {
      "cell_type": "markdown",
      "source": [
        "## Specifically:  \n",
        "\n",
        "Let's go through the code step by step and explain what it does:\n",
        "\n",
        "1. `solution = torch.tensor(solution)`: This line converts the `solution` array into a PyTorch tensor.\n",
        "\n",
        "2. `observed_data = solution`: Here, the `observed_data` variable is defined as the same tensor `solution`.\n",
        "\n",
        "3. `loss_fn = nn.MSELoss()`: This line defines the Mean Squared Error (MSE) loss function.\n",
        "\n",
        "4. `optimizer = optim.Adam(odefunc.parameters(), lr=0.01)`: The Adam optimizer is defined with a learning rate of 0.01. It will be used to update the parameters of the `odefunc` neural network.\n",
        "\n",
        "5. `solution2=[]`: An empty list `solution2` is created to store the solutions at each epoch.\n",
        "\n",
        "6. `for epoch in range(100):`: This loop runs for 100 epochs.\n",
        "\n",
        "7. `optimizer.zero_grad()`: Resets the gradients of the optimizer.\n",
        "\n",
        "8. `out = odefunc(t, y0)`: Performs a forward pass through the neural network `odefunc` to obtain the output.\n",
        "\n",
        "9. `solution = torch.stack([y0.unsqueeze(0), out], dim=0)`: Stacks the initial condition `y0` and the output `out` along the first dimension, creating a tensor of shape `(2, batch_size, 2)`. The `unsqueeze(0)` is used to add an additional dimension to `y0` to match the shape of `out`.\n",
        "\n",
        "10. `solution = solution.double()`: Converts the tensor `solution` to double precision.\n",
        "\n",
        "11. `solution2.append(solution)`: Appends the current solution to the `solution2` list.\n",
        "\n",
        "12. `loss = loss_fn(solution, observed_data)`: Calculates the loss by comparing the predicted solution `solution` with the observed data `observed_data` using the MSE loss function.\n",
        "\n",
        "13. `loss.backward()`: Performs backpropagation to compute the gradients of the loss with respect to the neural network parameters.\n",
        "\n",
        "14. `optimizer.step()`: Updates the neural network parameters based on the computed gradients.\n",
        "\n",
        "15. `print(f\"Epoch {epoch+1}: Loss = {loss.item()}\")`: Prints the current epoch and the corresponding loss for monitoring purposes.\n",
        "\n",
        "16. `print(solution)`: Prints the current solution.\n",
        "\n"
      ],
      "metadata": {
        "id": "YXw6kQHVc-vX"
      }
    }
  ]
}